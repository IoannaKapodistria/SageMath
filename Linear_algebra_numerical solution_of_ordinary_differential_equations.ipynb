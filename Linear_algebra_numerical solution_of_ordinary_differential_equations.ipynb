{
 "cells": [
  {
   "cell_type": "code",
   "execution_count": null,
   "metadata": {},
   "outputs": [],
   "source": []
  },
  {
   "cell_type": "code",
   "execution_count": null,
   "metadata": {},
   "outputs": [],
   "source": [
    "Άσκηση 1"
   ]
  },
  {
   "cell_type": "code",
   "execution_count": null,
   "metadata": {},
   "outputs": [],
   "source": [
    "reset ()"
   ]
  },
  {
   "cell_type": "code",
   "execution_count": 4,
   "metadata": {},
   "outputs": [
    {
     "name": "stdout",
     "output_type": "stream",
     "text": [
      "[ 2  3  1  4]\n",
      "[ 1  2  1  3]\n",
      "[-1  0  1  1]\n"
     ]
    }
   ],
   "source": [
    "a1 = vector(QQ, [2,1,-1])\n",
    "a2 = vector(QQ, [3,2,0 ])\n",
    "a3 = vector(QQ, [1,1,1 ])\n",
    "a4 = vector(QQ, [4,3,1 ])\n",
    "A = matrix(QQ, [ a1 , a2 , a3 , a4 ] ).transpose()\n",
    "print A"
   ]
  },
  {
   "cell_type": "code",
   "execution_count": 5,
   "metadata": {},
   "outputs": [
    {
     "data": {
      "text/plain": [
       "Vector space of degree 4 and dimension 2 over Rational Field\n",
       "Basis matrix:\n",
       "[ 1  0  2 -1]\n",
       "[ 0  1  1 -1]"
      ]
     },
     "execution_count": 5,
     "metadata": {},
     "output_type": "execute_result"
    }
   ],
   "source": [
    "A.right_kernel()"
   ]
  },
  {
   "cell_type": "code",
   "execution_count": 6,
   "metadata": {},
   "outputs": [],
   "source": [
    "z1=vector(QQ,[1,0,2,-1])\n",
    "z2=vector(QQ,[0,1,1,-1])\n",
    "z=vector(QQ,[3,-5,1,2])"
   ]
  },
  {
   "cell_type": "code",
   "execution_count": 7,
   "metadata": {},
   "outputs": [
    {
     "data": {
      "text/plain": [
       "True"
      ]
     },
     "execution_count": 7,
     "metadata": {},
     "output_type": "execute_result"
    }
   ],
   "source": [
    "A*z==0"
   ]
  },
  {
   "cell_type": "code",
   "execution_count": null,
   "metadata": {},
   "outputs": [],
   "source": []
  },
  {
   "cell_type": "code",
   "execution_count": 8,
   "metadata": {},
   "outputs": [
    {
     "data": {
      "text/plain": [
       "[ 1  0]\n",
       "[ 0  1]\n",
       "[ 2  1]\n",
       "[-1 -1]"
      ]
     },
     "execution_count": 8,
     "metadata": {},
     "output_type": "execute_result"
    }
   ],
   "source": [
    "N = matrix(QQ, [ z1 , z2 ] ).transpose(); N"
   ]
  },
  {
   "cell_type": "code",
   "execution_count": 9,
   "metadata": {},
   "outputs": [
    {
     "data": {
      "text/plain": [
       "[ 1  0  3]\n",
       "[ 0  1 -5]\n",
       "[ 0  0  0]\n",
       "[ 0  0  0]"
      ]
     },
     "execution_count": 9,
     "metadata": {},
     "output_type": "execute_result"
    }
   ],
   "source": [
    "N.augment(z).rref()"
   ]
  },
  {
   "cell_type": "code",
   "execution_count": 13,
   "metadata": {},
   "outputs": [
    {
     "data": {
      "text/plain": [
       "True"
      ]
     },
     "execution_count": 13,
     "metadata": {},
     "output_type": "execute_result"
    }
   ],
   "source": [
    "3*z1 + (-5)*z2 == z"
   ]
  },
  {
   "cell_type": "code",
   "execution_count": null,
   "metadata": {},
   "outputs": [],
   "source": []
  },
  {
   "cell_type": "code",
   "execution_count": 14,
   "metadata": {},
   "outputs": [
    {
     "data": {
      "text/plain": [
       "[ 1  0  2 -1]\n",
       "[ 0  1  1 -1]"
      ]
     },
     "execution_count": 14,
     "metadata": {},
     "output_type": "execute_result"
    }
   ],
   "source": [
    "N.transpose().rref()"
   ]
  },
  {
   "cell_type": "code",
   "execution_count": 15,
   "metadata": {},
   "outputs": [],
   "source": [
    "z3 = vector( [-2,-1,1,0] ); \n",
    "z4 = vector( [1,1,0,1] );"
   ]
  },
  {
   "cell_type": "code",
   "execution_count": 16,
   "metadata": {},
   "outputs": [
    {
     "data": {
      "text/plain": [
       "[ 1  0  2 -1]\n",
       "[ 0  1  1 -1]\n",
       "[-2 -1  1  0]\n",
       "[ 1  1  0  1]"
      ]
     },
     "execution_count": 16,
     "metadata": {},
     "output_type": "execute_result"
    }
   ],
   "source": [
    "T = Matrix(QQ,[z1,z2,z3,z4]); T"
   ]
  },
  {
   "cell_type": "code",
   "execution_count": 17,
   "metadata": {},
   "outputs": [
    {
     "data": {
      "text/plain": [
       "[1 0 0 0]\n",
       "[0 1 0 0]\n",
       "[0 0 1 0]\n",
       "[0 0 0 1]"
      ]
     },
     "execution_count": 17,
     "metadata": {},
     "output_type": "execute_result"
    }
   ],
   "source": [
    "T.rref()"
   ]
  },
  {
   "cell_type": "code",
   "execution_count": 18,
   "metadata": {},
   "outputs": [
    {
     "name": "stdout",
     "output_type": "stream",
     "text": [
      "[(1, 0, 2, -1), (0, 1, 1, -1), (-2, -1, 1, 0), (1, 1, 0, 1)]\n"
     ]
    }
   ],
   "source": [
    "v = [z1 , z2 , z3 , z4 ];\n",
    "print v"
   ]
  },
  {
   "cell_type": "code",
   "execution_count": 19,
   "metadata": {},
   "outputs": [
    {
     "name": "stdout",
     "output_type": "stream",
     "text": [
      "[ 6  3  0  0]\n",
      "[ 3  3  0  0]\n",
      "[ 0  0  6 -3]\n",
      "[ 0  0 -3  3]\n"
     ]
    }
   ],
   "source": [
    "ginomena = matrix([[ v[i].dot_product(v[j]) for i in range(len(v))] for j in range(len(v))]);\n",
    "print ginomena"
   ]
  },
  {
   "cell_type": "code",
   "execution_count": 20,
   "metadata": {},
   "outputs": [
    {
     "name": "stdout",
     "output_type": "stream",
     "text": [
      "[(1/6*sqrt(6), 0, 1/3*sqrt(6), -1/6*sqrt(6)), (-1/3*sqrt(3/2), 2/3*sqrt(3/2), 0, -1/3*sqrt(3/2)), (-1/3*sqrt(6), -1/6*sqrt(6), 1/6*sqrt(6), 0), (0, 1/3*sqrt(3/2), 1/3*sqrt(3/2), 2/3*sqrt(3/2))]\n"
     ]
    }
   ],
   "source": [
    "e = [v[0]/norm(v[0])]\n",
    "for j in [1..len(v)-1]:\n",
    "    r = v[j] - sum(v[j].dot_product(e[k])*e[k] for k in [0..len(e)-1])\n",
    "    normr = norm(r)\n",
    "    e.append(r/normr);\n",
    "print e"
   ]
  },
  {
   "cell_type": "code",
   "execution_count": 21,
   "metadata": {},
   "outputs": [
    {
     "name": "stdout",
     "output_type": "stream",
     "text": [
      "[1 0 0 0]\n",
      "[0 1 0 0]\n",
      "[0 0 1 0]\n",
      "[0 0 0 1]\n"
     ]
    }
   ],
   "source": [
    "ginomena_e = matrix([[ e[i].dot_product(e[j]) for i in range(len(e))] for j in range(len(e))]);\n",
    "print ginomena_e"
   ]
  },
  {
   "cell_type": "code",
   "execution_count": null,
   "metadata": {},
   "outputs": [],
   "source": []
  },
  {
   "cell_type": "code",
   "execution_count": null,
   "metadata": {},
   "outputs": [],
   "source": []
  },
  {
   "cell_type": "code",
   "execution_count": null,
   "metadata": {},
   "outputs": [],
   "source": []
  },
  {
   "cell_type": "code",
   "execution_count": null,
   "metadata": {},
   "outputs": [],
   "source": [
    "Άσκηση 2α)"
   ]
  },
  {
   "cell_type": "code",
   "execution_count": 23,
   "metadata": {},
   "outputs": [],
   "source": [
    "reset ()"
   ]
  },
  {
   "cell_type": "code",
   "execution_count": 24,
   "metadata": {},
   "outputs": [
    {
     "data": {
      "text/plain": [
       "[ 0  1  0  0]\n",
       "[11  6 -4 -4]\n",
       "[22 15 -8 -9]\n",
       "[-3 -2  1  2]"
      ]
     },
     "execution_count": 24,
     "metadata": {},
     "output_type": "execute_result"
    }
   ],
   "source": [
    "A = matrix([[0,1,0,0],[11,6,-4,-4],[22,15,-8,-9],[-3,-2,1,2]]); A"
   ]
  },
  {
   "cell_type": "code",
   "execution_count": 25,
   "metadata": {},
   "outputs": [
    {
     "data": {
      "text/plain": [
       "(x - 1)^2 * (x + 1)^2"
      ]
     },
     "execution_count": 25,
     "metadata": {},
     "output_type": "execute_result"
    }
   ],
   "source": [
    "A.charpoly().factor()"
   ]
  },
  {
   "cell_type": "code",
   "execution_count": 26,
   "metadata": {},
   "outputs": [
    {
     "data": {
      "text/plain": [
       "(x - 1)^2 * (x + 1)^2"
      ]
     },
     "execution_count": 26,
     "metadata": {},
     "output_type": "execute_result"
    }
   ],
   "source": [
    "A.minpoly().factor()"
   ]
  },
  {
   "cell_type": "code",
   "execution_count": 27,
   "metadata": {},
   "outputs": [
    {
     "data": {
      "text/plain": [
       "[1, 1, -1, -1]"
      ]
     },
     "execution_count": 27,
     "metadata": {},
     "output_type": "execute_result"
    }
   ],
   "source": [
    "A.eigenvalues()"
   ]
  },
  {
   "cell_type": "code",
   "execution_count": null,
   "metadata": {},
   "outputs": [],
   "source": [
    "λ1=1 με αλγεβρικη πολλαπλοτητα 2 , λ2=-1 με αλγεβρικη πολλαπλοτητα 2"
   ]
  },
  {
   "cell_type": "code",
   "execution_count": 28,
   "metadata": {},
   "outputs": [
    {
     "name": "stdout",
     "output_type": "stream",
     "text": [
      "[ 1  0  0  0]\n",
      "[ 0  1  0  0]\n",
      "[ 0  0 -1  0]\n",
      "[ 0  0  0 -1]\n"
     ]
    }
   ],
   "source": [
    "vec = A.eigenmatrix_right(); print vec[0]"
   ]
  },
  {
   "cell_type": "code",
   "execution_count": 29,
   "metadata": {},
   "outputs": [
    {
     "name": "stdout",
     "output_type": "stream",
     "text": [
      "[ 0  0  1  0]\n",
      "[ 0  0 -1  0]\n",
      "[ 1  0  1  0]\n",
      "[-1  0  0  0]\n"
     ]
    }
   ],
   "source": [
    "print vec[1]"
   ]
  },
  {
   "cell_type": "code",
   "execution_count": 30,
   "metadata": {},
   "outputs": [
    {
     "name": "stdout",
     "output_type": "stream",
     "text": [
      "(0, 0, 1, -1)\n",
      "(0, 0, 0, 0)\n",
      "(1, -1, 1, 0)\n",
      "(0, 0, 0, 0)\n"
     ]
    }
   ],
   "source": [
    "print vec[1].column(0)\n",
    "print vec[1].column(1)\n",
    "print vec[1].column(2)\n",
    "print vec[1].column(3)"
   ]
  },
  {
   "cell_type": "code",
   "execution_count": null,
   "metadata": {},
   "outputs": [],
   "source": []
  },
  {
   "cell_type": "code",
   "execution_count": null,
   "metadata": {},
   "outputs": [],
   "source": [
    "ή αλλος τροπος ειναι ο παρακατω"
   ]
  },
  {
   "cell_type": "code",
   "execution_count": 39,
   "metadata": {},
   "outputs": [
    {
     "data": {
      "text/plain": [
       "[(1, [\n",
       "  (0, 0, 1, -1)\n",
       "  ], 2), (-1, [\n",
       "  (1, -1, 1, 0)\n",
       "  ], 2)]"
      ]
     },
     "execution_count": 39,
     "metadata": {},
     "output_type": "execute_result"
    }
   ],
   "source": [
    "A.eigenvectors_right()"
   ]
  },
  {
   "cell_type": "code",
   "execution_count": 40,
   "metadata": {},
   "outputs": [
    {
     "data": {
      "text/plain": [
       "[\n",
       "(1, Vector space of degree 4 and dimension 1 over Rational Field\n",
       "User basis matrix:\n",
       "[ 0  0  1 -1]),\n",
       "(-1, Vector space of degree 4 and dimension 1 over Rational Field\n",
       "User basis matrix:\n",
       "[ 1 -1  1  0])\n",
       "]"
      ]
     },
     "execution_count": 40,
     "metadata": {},
     "output_type": "execute_result"
    }
   ],
   "source": [
    "A.eigenspaces_right()"
   ]
  },
  {
   "cell_type": "code",
   "execution_count": null,
   "metadata": {},
   "outputs": [],
   "source": [
    "στην λ1=1 αντιστοιχει το διανυσμα (0,0,1,-1) ενω στην ιδιοτιμη λ2=-1 αντιστοιχει το διανυσμα ( 1,-1,1,0)"
   ]
  },
  {
   "cell_type": "code",
   "execution_count": null,
   "metadata": {},
   "outputs": [],
   "source": [
    "Και με τους δυο τροποθς βλεπουμε οτι οι γεωμετρικές πολλαπλότητες των ιδιοτιμών λ1=1 και λ2=-1 (οι οποιες ειναι 1 και 1 αντιστοιχα) \n",
    "δεν ταυτίζονται με τις αντίστοιχες αλγεβρικές πολλαπλότητες(2 και 2)\n",
    "και συνεπώς ο πίνακας δεν A διαγωνοποιείται"
   ]
  },
  {
   "cell_type": "code",
   "execution_count": 31,
   "metadata": {},
   "outputs": [
    {
     "name": "stdout",
     "output_type": "stream",
     "text": [
      "Η μορφή Jordan J του πίνακα Α:\n",
      "[ 1  1| 0  0]\n",
      "[ 0  1| 0  0]\n",
      "[-----+-----]\n",
      "[ 0  0|-1  1]\n",
      "[ 0  0| 0 -1]\n",
      "----------\n",
      "Ο πίνακας T αλλαγής βάσης:\n",
      "[ 0  1  1  1]\n",
      "[ 0  1 -1  0]\n",
      "[ 1  0  1  3]\n",
      "[-1  4  0  0]\n"
     ]
    }
   ],
   "source": [
    "J, T = A.jordan_form(transformation=True);\n",
    "print str('Η μορφή Jordan J του πίνακα Α:');\n",
    "print J; \n",
    "print str('----------')\n",
    "print str('Ο πίνακας T αλλαγής βάσης:');\n",
    "print T"
   ]
  },
  {
   "cell_type": "code",
   "execution_count": 32,
   "metadata": {},
   "outputs": [
    {
     "name": "stdout",
     "output_type": "stream",
     "text": [
      "True\n"
     ]
    }
   ],
   "source": [
    "print bool ( A == T*J*T.inverse())"
   ]
  },
  {
   "cell_type": "code",
   "execution_count": 33,
   "metadata": {},
   "outputs": [
    {
     "name": "stdout",
     "output_type": "stream",
     "text": [
      "[(0, 0, 1, -1), (1, 1, 0, 4), (1, -1, 1, 0), (1, 0, 3, 0)]\n"
     ]
    }
   ],
   "source": [
    "v = [ T.column(i) for i in [0..3] ]; print v"
   ]
  },
  {
   "cell_type": "code",
   "execution_count": 36,
   "metadata": {},
   "outputs": [
    {
     "name": "stdout",
     "output_type": "stream",
     "text": [
      "[ 2 -4  1  3]\n",
      "[-4 18  0  1]\n",
      "[ 1  0  3  4]\n",
      "[ 3  1  4 10]\n"
     ]
    }
   ],
   "source": [
    "ginomena = matrix([[ v[i].dot_product(v[j]) for i in range(len(v))] for j in range(len(v))]);\n",
    "print ginomena"
   ]
  },
  {
   "cell_type": "code",
   "execution_count": null,
   "metadata": {},
   "outputs": [],
   "source": []
  },
  {
   "cell_type": "code",
   "execution_count": 37,
   "metadata": {},
   "outputs": [
    {
     "name": "stdout",
     "output_type": "stream",
     "text": [
      "[(0, 0, 1/2*sqrt(2), -1/2*sqrt(2)), (1/10*sqrt(10), 1/10*sqrt(10), 1/5*sqrt(10), 1/5*sqrt(10)), (8/21*sqrt(21/10), -4/7*sqrt(21/10), 1/21*sqrt(21/10), 1/21*sqrt(21/10)), (-5*sqrt(1/42), -3*sqrt(1/42), 2*sqrt(1/42), 2*sqrt(1/42))]\n"
     ]
    }
   ],
   "source": [
    "e = [v[0]/norm(v[0])]\n",
    "for j in [1..len(v)-1]:\n",
    "    r = v[j] - sum(v[j].dot_product(e[k])*e[k] for k in [0..len(e)-1])\n",
    "    normr = norm(r)\n",
    "    e.append(r/norm(r));\n",
    "print e"
   ]
  },
  {
   "cell_type": "code",
   "execution_count": 38,
   "metadata": {},
   "outputs": [
    {
     "name": "stdout",
     "output_type": "stream",
     "text": [
      "[1 0 0 0]\n",
      "[0 1 0 0]\n",
      "[0 0 1 0]\n",
      "[0 0 0 1]\n"
     ]
    }
   ],
   "source": [
    "ginomena_e = matrix([[ e[i].dot_product(e[j]) for i in range(len(e))] for j in range(len(e))]);\n",
    "print ginomena_e"
   ]
  },
  {
   "cell_type": "code",
   "execution_count": null,
   "metadata": {},
   "outputs": [],
   "source": []
  },
  {
   "cell_type": "code",
   "execution_count": null,
   "metadata": {},
   "outputs": [],
   "source": []
  },
  {
   "cell_type": "code",
   "execution_count": null,
   "metadata": {},
   "outputs": [],
   "source": []
  },
  {
   "cell_type": "code",
   "execution_count": null,
   "metadata": {},
   "outputs": [],
   "source": [
    "Άσκηση 3"
   ]
  },
  {
   "cell_type": "code",
   "execution_count": 43,
   "metadata": {},
   "outputs": [],
   "source": [
    "reset ()"
   ]
  },
  {
   "cell_type": "code",
   "execution_count": 44,
   "metadata": {},
   "outputs": [
    {
     "data": {
      "text/plain": [
       "(x1, x2, x3, x4, x5)"
      ]
     },
     "execution_count": 44,
     "metadata": {},
     "output_type": "execute_result"
    }
   ],
   "source": [
    "var('x1 x2 x3 x4 x5')"
   ]
  },
  {
   "cell_type": "code",
   "execution_count": 45,
   "metadata": {},
   "outputs": [],
   "source": [
    "x = [0,x1,x2,x3,x4,x5]"
   ]
  },
  {
   "cell_type": "code",
   "execution_count": 46,
   "metadata": {},
   "outputs": [
    {
     "name": "stdout",
     "output_type": "stream",
     "text": [
      "[  1 1/2 1/3 1/4 1/5]\n",
      "[1/2   1 2/3 1/2 2/5]\n",
      "[1/3 2/3   1 3/4 3/5]\n",
      "[1/4 1/2 3/4   1 4/5]\n",
      "[1/5 2/5 3/5 4/5   1]\n"
     ]
    }
   ],
   "source": [
    "V = matrix(SR, [ [ min(i,j)/max(i,j) for j in [1..5] ] for i in [1..5] ] ) ; print V"
   ]
  },
  {
   "cell_type": "code",
   "execution_count": 52,
   "metadata": {},
   "outputs": [],
   "source": []
  },
  {
   "cell_type": "code",
   "execution_count": null,
   "metadata": {},
   "outputs": [],
   "source": []
  },
  {
   "cell_type": "code",
   "execution_count": 54,
   "metadata": {},
   "outputs": [
    {
     "name": "stderr",
     "output_type": "stream",
     "text": [
      "/opt/sagemath-8.6/local/lib/python2.7/site-packages/sage/all_cmdline.py:6: UserWarning: Using generic algorithm for an inexact ring, which will probably give incorrect results due to numerical precision issues.\n",
      "  \n"
     ]
    },
    {
     "name": "stdout",
     "output_type": "stream",
     "text": [
      "[3.06664039545787, 1.00351124827038, 0.501031353666560, 0.272797466156038, 0.156019536449149]\n"
     ]
    }
   ],
   "source": [
    "A = matrix(RR, [[1, 1/2, 1/3, 1/4, 1/5],\n",
    "[1/2,1, 2/3, 1/2, 2/5 ],\n",
    "[1/3, 2/3, 1, 3/4, 3/5 ],\n",
    "[1/4, 1/2, 3/4, 1, 4/5 ],\n",
    "[1/5, 2/5, 3/5, 4/5,1 ]])\n",
    "print A.eigenvalues()"
   ]
  },
  {
   "cell_type": "code",
   "execution_count": null,
   "metadata": {},
   "outputs": [],
   "source": []
  },
  {
   "cell_type": "code",
   "execution_count": 7,
   "metadata": {},
   "outputs": [],
   "source": [
    "A = matrix(SR,64);"
   ]
  },
  {
   "cell_type": "code",
   "execution_count": 8,
   "metadata": {},
   "outputs": [
    {
     "data": {
      "text/plain": [
       "64 x 64 dense matrix over Symbolic Ring (use the '.str()' method to see the entries)"
      ]
     },
     "execution_count": 8,
     "metadata": {},
     "output_type": "execute_result"
    }
   ],
   "source": [
    "A"
   ]
  },
  {
   "cell_type": "code",
   "execution_count": 21,
   "metadata": {},
   "outputs": [],
   "source": [
    "for i in [2..63]:\n",
    "    for j in [2..63]:\n",
    "         if (mod(A[i,j],2)==0):\n",
    "            A[i,j] = 1.0\n",
    "    else: \n",
    "        result= 0\n",
    "    A[i,j] = factorial(i+j-2)/factorial(j-1)*factorial(i-1)"
   ]
  },
  {
   "cell_type": "code",
   "execution_count": 22,
   "metadata": {},
   "outputs": [
    {
     "data": {
      "text/plain": [
       "64 x 64 dense matrix over Symbolic Ring (use the '.str()' method to see the entries)"
      ]
     },
     "execution_count": 22,
     "metadata": {},
     "output_type": "execute_result"
    }
   ],
   "source": [
    "A"
   ]
  },
  {
   "cell_type": "code",
   "execution_count": null,
   "metadata": {},
   "outputs": [],
   "source": []
  },
  {
   "cell_type": "code",
   "execution_count": null,
   "metadata": {},
   "outputs": [],
   "source": []
  },
  {
   "cell_type": "code",
   "execution_count": null,
   "metadata": {},
   "outputs": [],
   "source": []
  },
  {
   "cell_type": "code",
   "execution_count": null,
   "metadata": {},
   "outputs": [],
   "source": []
  },
  {
   "cell_type": "code",
   "execution_count": null,
   "metadata": {},
   "outputs": [],
   "source": []
  },
  {
   "cell_type": "code",
   "execution_count": null,
   "metadata": {},
   "outputs": [],
   "source": [
    "Άσκηση 5"
   ]
  },
  {
   "cell_type": "code",
   "execution_count": 4,
   "metadata": {},
   "outputs": [],
   "source": [
    "reset ()"
   ]
  },
  {
   "cell_type": "code",
   "execution_count": 5,
   "metadata": {},
   "outputs": [],
   "source": [
    "var('t x y')\n",
    "(a, b, c, d) = (1.0, 0.5, 0.75, 0.125)\n",
    "f=[ a*x - b*x*y , -c*y + d*x*y ]\n",
    "x0y0 = [3 , 2]\n",
    "ts = 0.01;\n",
    "tt=srange(0., 15.,ts);\n",
    "sol = desolve_odeint(f, x0y0 , tt , [x , y] , ivar=t)\n",
    "l1 , l2 = sol.T"
   ]
  },
  {
   "cell_type": "code",
   "execution_count": 8,
   "metadata": {},
   "outputs": [
    {
     "data": {
      "text/plain": [
       "14.9899999999997"
      ]
     },
     "execution_count": 8,
     "metadata": {},
     "output_type": "execute_result"
    }
   ],
   "source": [
    "tt[len(tt)-1]"
   ]
  },
  {
   "cell_type": "code",
   "execution_count": 9,
   "metadata": {},
   "outputs": [
    {
     "name": "stdout",
     "output_type": "stream",
     "text": [
      "3.0025846505766354\n"
     ]
    }
   ],
   "source": [
    "pros = l1[len(l1)-1] ; print pros"
   ]
  },
  {
   "cell_type": "code",
   "execution_count": null,
   "metadata": {},
   "outputs": [],
   "source": [
    "ή"
   ]
  },
  {
   "cell_type": "code",
   "execution_count": 7,
   "metadata": {},
   "outputs": [
    {
     "name": "stdout",
     "output_type": "stream",
     "text": [
      "[3.         3.00005616 3.00022441 ... 3.0012918  3.00188312 3.00258465] [2.         1.9925141  1.9850565  ... 1.96427647 1.95692808 1.94960877]\n"
     ]
    }
   ],
   "source": [
    "print l1,l2"
   ]
  },
  {
   "cell_type": "code",
   "execution_count": 50,
   "metadata": {},
   "outputs": [
    {
     "name": "stderr",
     "output_type": "stream",
     "text": [
      "/opt/sagemath-8.6/local/lib/python2.7/site-packages/matplotlib/font_manager.py:278: UserWarning: Matplotlib is building the font cache using fc-list. This may take a moment.\n",
      "  'Matplotlib is building the font cache using fc-list. '\n"
     ]
    },
    {
     "data": {
      "image/png": "[encoded data removed]",
      "text/plain": [
       "Graphics object consisting of 4 graphics primitives"
      ]
     },
     "metadata": {},
     "output_type": "display_data"
    }
   ],
   "source": [
    "p1 = line(zip(tt, l1), color='red')\n",
    "p1 += text(\"rabbits\" ,(12,37), fontsize=10, color='red')\n",
    "p2 = line(zip(tt, l2), color='blue')\n",
    "p2 += text(\"foxes\" ,(12,7), fontsize=10, color='blue')\n",
    "(p1+p2).show(figsize=5,axes_labels=[\"t\",\"population\"],ticks=2, gridlines=true)\n"
   ]
  },
  {
   "cell_type": "code",
   "execution_count": null,
   "metadata": {},
   "outputs": [],
   "source": []
  },
  {
   "cell_type": "code",
   "execution_count": null,
   "metadata": {},
   "outputs": [],
   "source": [
    "Άσκηση 5 β)"
   ]
  },
  {
   "cell_type": "code",
   "execution_count": 57,
   "metadata": {},
   "outputs": [],
   "source": [
    "n = 4 ; L = srange(2, 2*n+2, 2); R = srange(3, 2*n+2, 2)\n",
    "CI = zip(L, R)\n",
    "for j in range(n):\n",
    "    X = desolve_odeint(f, CI[j] , tt, [x , y] , ivar=t) \n",
    "    q += line(X, color=hue(.8-float(j)/(1.8*n)))"
   ]
  },
  {
   "cell_type": "code",
   "execution_count": 58,
   "metadata": {},
   "outputs": [
    {
     "data": {
      "image/png": "[encoded data removed]",
      "text/plain": [
       "Graphics object consisting of 5 graphics primitives"
      ]
     },
     "metadata": {},
     "output_type": "display_data"
    }
   ],
   "source": [
    "q.show(figsize=5,axes_labels=[\"rabbits\",\"foxes\"])"
   ]
  },
  {
   "cell_type": "code",
   "execution_count": null,
   "metadata": {},
   "outputs": [],
   "source": [
    "Άσκηση 5γ)"
   ]
  },
  {
   "cell_type": "code",
   "execution_count": 59,
   "metadata": {},
   "outputs": [],
   "source": [
    "def g(x,y):\n",
    "    v = vector(f) \n",
    "    return v/v.norm()"
   ]
  },
  {
   "cell_type": "code",
   "execution_count": 60,
   "metadata": {},
   "outputs": [
    {
     "data": {
      "image/png": "[encoded data removed]",
      "text/plain": [
       "Graphics object consisting of 1 graphics primitive"
      ]
     },
     "metadata": {},
     "output_type": "display_data"
    }
   ],
   "source": [
    "q = plot_vector_field(g(x, y), (x, 0, 60), (y, 0, 36)); q.show(figsize=5)"
   ]
  },
  {
   "cell_type": "code",
   "execution_count": null,
   "metadata": {},
   "outputs": [],
   "source": []
  },
  {
   "cell_type": "code",
   "execution_count": null,
   "metadata": {},
   "outputs": [],
   "source": []
  },
  {
   "cell_type": "code",
   "execution_count": null,
   "metadata": {},
   "outputs": [],
   "source": []
  },
  {
   "cell_type": "code",
   "execution_count": null,
   "metadata": {},
   "outputs": [],
   "source": [
    "Άσκηση 4γ)"
   ]
  },
  {
   "cell_type": "code",
   "execution_count": null,
   "metadata": {},
   "outputs": [],
   "source": []
  },
  {
   "cell_type": "code",
   "execution_count": 1,
   "metadata": {},
   "outputs": [],
   "source": [
    "reset ()"
   ]
  },
  {
   "cell_type": "code",
   "execution_count": 18,
   "metadata": {},
   "outputs": [
    {
     "name": "stdout",
     "output_type": "stream",
     "text": [
      "optimize x^2 + (y - 3)^2 subject to 4*(x^2 + y^2)^2 == 15*x^2 - 15*y^2\n"
     ]
    }
   ],
   "source": [
    "var('x,y')\n",
    "dis = (x-0)^2+(y-3)^2\n",
    "constraint = 4*(x^2 + y^2)^2 == 15*(x^2-y^2)\n",
    "print 'optimize', dis, 'subject to', constraint"
   ]
  },
  {
   "cell_type": "code",
   "execution_count": 19,
   "metadata": {},
   "outputs": [
    {
     "name": "stdout",
     "output_type": "stream",
     "text": [
      "target as function : (x, y) |--> x^2 + (y - 3)^2\n",
      "constraint as function : (x, y) |--> 4*(x^2 + y^2)^2\n",
      "gradient of target : (x, y) |--> (2*x, 2*y - 6)\n",
      "gradient of constraint : (x, y) |--> (16*(x^2 + y^2)*x, 16*(x^2 + y^2)*y)\n"
     ]
    }
   ],
   "source": [
    "f(x,y) = dis\n",
    "g(x,y) = constraint.lhs()\n",
    "print 'target as function :', f\n",
    "print 'constraint as function :', g\n",
    "gradf = f.diff()\n",
    "gradg = g.diff()\n",
    "print 'gradient of target :', gradf\n",
    "print 'gradient of constraint :', gradg"
   ]
  },
  {
   "cell_type": "code",
   "execution_count": 20,
   "metadata": {},
   "outputs": [
    {
     "name": "stdout",
     "output_type": "stream",
     "text": [
      "[-16*(x^2 + y^2)*ell*x + 2*x == 0, -16*(x^2 + y^2)*ell*y + 2*y - 6 == 0, 4*(x^2 + y^2)^2 == 15*x^2 - 15*y^2]\n"
     ]
    }
   ],
   "source": [
    "var('ell')\n",
    "eqs = [gradf(x,y)[k] - ell*gradg(x,y)[k] == 0 for k in range(2)]\n",
    "eqs.append(constraint)\n",
    "print eqs"
   ]
  },
  {
   "cell_type": "code",
   "execution_count": 21,
   "metadata": {},
   "outputs": [
    {
     "data": {
      "text/plain": [
       "(x, y) |--> (2*x, 2*y - 6)"
      ]
     },
     "execution_count": 21,
     "metadata": {},
     "output_type": "execute_result"
    }
   ],
   "source": [
    "gradf"
   ]
  },
  {
   "cell_type": "code",
   "execution_count": 22,
   "metadata": {},
   "outputs": [
    {
     "data": {
      "text/plain": [
       "[{ell: 1/75*I*sqrt(15) - 1/30, y: -1/2*I*sqrt(15), x: 0},\n",
       " {ell: -1/75*I*sqrt(15) - 1/30, y: 1/2*I*sqrt(15), x: 0}]"
      ]
     },
     "execution_count": 22,
     "metadata": {},
     "output_type": "execute_result"
    }
   ],
   "source": [
    "sols = solve(eqs,[x,y,ell],solution_dict=true); sols"
   ]
  },
  {
   "cell_type": "code",
   "execution_count": 23,
   "metadata": {},
   "outputs": [
    {
     "name": "stdout",
     "output_type": "stream",
     "text": [
      "found 2 solutions\n"
     ]
    }
   ],
   "source": [
    "print 'found', len(sols), 'solutions'"
   ]
  },
  {
   "cell_type": "code",
   "execution_count": 24,
   "metadata": {},
   "outputs": [
    {
     "name": "stdout",
     "output_type": "stream",
     "text": [
      "[3.00000000000000 + 1.93649167310371*I, 3.00000000000000 - 1.93649167310371*I]\n"
     ]
    }
   ],
   "source": [
    "print [ (sqrt(dis)).substitute(sols[k]).n() for k in range(0,len(sols))]"
   ]
  },
  {
   "cell_type": "code",
   "execution_count": null,
   "metadata": {},
   "outputs": [],
   "source": []
  },
  {
   "cell_type": "code",
   "execution_count": null,
   "metadata": {},
   "outputs": [],
   "source": []
  },
  {
   "cell_type": "code",
   "execution_count": null,
   "metadata": {},
   "outputs": [],
   "source": []
  }
 ],
 "metadata": {
  "kernelspec": {
   "display_name": "SageMath 8.6",
   "language": "",
   "name": "sagemath"
  },
  "language_info": {
   "codemirror_mode": {
    "name": "ipython",
    "version": 2
   },
   "file_extension": ".py",
   "mimetype": "text/x-python",
   "name": "python",
   "nbconvert_exporter": "python",
   "pygments_lexer": "ipython2",
   "version": "2.7.15"
  }
 },
 "nbformat": 4,
 "nbformat_minor": 2
}
